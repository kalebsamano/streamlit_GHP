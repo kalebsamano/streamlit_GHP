{
 "cells": [
  {
   "cell_type": "code",
   "execution_count": 2,
   "metadata": {},
   "outputs": [],
   "source": [
    "import sys\n",
    "import config\n",
    "import pandas as pd\n",
    "import plotly.express as px\n",
    "import plotly.graph_objects as go\n",
    "from ghp_suite_api import GHPSuiteApiConnector"
   ]
  },
  {
   "cell_type": "code",
   "execution_count": 3,
   "metadata": {},
   "outputs": [],
   "source": [
    "conn = GHPSuiteApiConnector(config.api_key)\n",
    "r = conn.test_connection()\n",
    "if r != '':\n",
    "    sys.exit('Connection failed. ' + r)\n",
    "\n",
    "pmc = conn.get_procurement_material_catalog_df()\n",
    "venues = conn.get_venues_df()"
   ]
  },
  {
   "cell_type": "code",
   "execution_count": 4,
   "metadata": {},
   "outputs": [],
   "source": [
    "venues = conn.get_venues_df()\n",
    "venues_activos = venues[venues['status_name'] == 'Activo']"
   ]
  },
  {
   "cell_type": "code",
   "execution_count": 5,
   "metadata": {},
   "outputs": [],
   "source": [
    "count = 0\n",
    "\n",
    "fecha1 = '2020-10-31'\n",
    "fecha2 = '2020-11-02'\n",
    "fecha3 = '2020-11-03'\n",
    "fecha4 = '2021-02-01'\n",
    "fecha5 = '2021-02-02'\n",
    "fecha6 = '2021-05-03'\n",
    "fecha7 = '2021-05-04'\n",
    "fecha8 = '2021-08-02'\n",
    "fecha9 = '2021-08-03'\n",
    "fecha10 = '2021-10-31'"
   ]
  },
  {
   "cell_type": "code",
   "execution_count": 6,
   "metadata": {},
   "outputs": [],
   "source": [
    "for venue_code in venues_activos['venue_code'].unique():\n",
    "    if count == 1:\n",
    "        try:\n",
    "            purchase_data1 = conn.get_procurement_purchase_orders_df(venue_code, fecha1, fecha2)\n",
    "        except:\n",
    "            purchase_data1 = pd.DataFrame()\n",
    "        try:\n",
    "            purchase_data2 = conn.get_procurement_purchase_orders_df(venue_code, fecha3, fecha4)\n",
    "        except:\n",
    "            purchase_data2 = pd.DataFrame()\n",
    "        try:\n",
    "            purchase_data3 = conn.get_procurement_purchase_orders_df(venue_code, fecha5, fecha6)\n",
    "        except:\n",
    "            purchase_data3 = pd.DataFrame()\n",
    "        try:\n",
    "            purchase_data4 = conn.get_procurement_purchase_orders_df(venue_code, fecha7, fecha8)\n",
    "        except:\n",
    "            purchase_data4 = pd.DataFrame()\n",
    "        try:\n",
    "            purchase_data5 = conn.get_procurement_purchase_orders_df(venue_code, fecha9, fecha10)\n",
    "        except:\n",
    "            purchase_data5 = pd.DataFrame()\n",
    "            \n",
    "        purchase_data = pd.concat([purchase_data, purchase_data1, purchase_data2, purchase_data3, purchase_data4, purchase_data5])\n",
    "    elif count == 0:\n",
    "        purchase_data1 = conn.get_procurement_purchase_orders_df(venue_code, fecha1, fecha2)\n",
    "        purchase_data2 = conn.get_procurement_purchase_orders_df(venue_code, fecha3, fecha4)\n",
    "        purchase_data3 = conn.get_procurement_purchase_orders_df(venue_code, fecha5, fecha6)\n",
    "        purchase_data4 = conn.get_procurement_purchase_orders_df(venue_code, fecha7, fecha8)\n",
    "        purchase_data5 = conn.get_procurement_purchase_orders_df(venue_code, fecha9, fecha10)\n",
    "        purchase_data = pd.concat([purchase_data1, purchase_data2, purchase_data3, purchase_data4, purchase_data5])\n",
    "        count += 1"
   ]
  },
  {
   "cell_type": "code",
   "execution_count": 7,
   "metadata": {},
   "outputs": [],
   "source": [
    "purchase_data['quantity'] = purchase_data['quantity'].astype(float)\n",
    "purchase_data['unit_price'] = purchase_data['unit_price'].astype(float)\n",
    "purchase_data['net_value'] = purchase_data['net_value'].astype(float)"
   ]
  },
  {
   "cell_type": "code",
   "execution_count": 8,
   "metadata": {},
   "outputs": [],
   "source": [
    "cross_tab = pd.crosstab(index=purchase_data['venue_code'],\n",
    "                             columns=purchase_data['vendor_negotiation_type'],\n",
    "                             normalize=\"index\")"
   ]
  },
  {
   "cell_type": "code",
   "execution_count": 8,
   "metadata": {},
   "outputs": [
    {
     "data": {
      "application/vnd.plotly.v1+json": {
       "config": {
        "plotlyServerURL": "https://plot.ly"
       },
       "data": [
        {
         "name": "Corporate",
         "type": "bar",
         "x": [
          "BJXCR",
          "CJSAT",
          "CUNPL",
          "CUUCY",
          "CUUDE",
          "CUUMI",
          "CUUMX",
          "CUUWY",
          "GDLAN",
          "GDLAR",
          "GDLVI",
          "HMORS",
          "JUAMI",
          "JUAZO",
          "MEXAC",
          "MIDNT",
          "MTYCP",
          "MTYGA",
          "MTYJW",
          "MTYVR",
          "MTYWI",
          "MTYZO",
          "MTYZV",
          "PBCCY",
          "PBCMC",
          "QROHT",
          "REXHA",
          "REXVF",
          "SLWCS",
          "SLWHA",
          "SLWZO",
          "TAMAL",
          "TLUDR",
          "TLUMI",
          "TLUZO",
          "TRCHA"
         ],
         "y": [
          0.6337268993839835,
          0.8320419325433,
          0.7912114590920126,
          0.5646144147930238,
          0.7722233842292408,
          0.6772151898734177,
          0.791701016762847,
          0.5992307692307692,
          0.8412162162162162,
          0.8064220183486238,
          0.8337067463281056,
          0.880066762041011,
          0.7443796835970025,
          0.7488355428161949,
          0.6721038615179761,
          0.15766805106906628,
          0.8941437596038928,
          0.849624060150376,
          0.7812442311242385,
          0.891695205479452,
          0.7804511278195488,
          0.8429588607594937,
          0.7880592211136144,
          0.5367006718089077,
          0.8053512752307933,
          0.6770320197044335,
          0.7322507552870091,
          0.8087379793422771,
          0.7775153519130845,
          0.8692608606135475,
          0.8465966813410092,
          0.3813177444891,
          0.8856676194365047,
          0.882466281310212,
          0.7404910929224844,
          0.7679968701095462
         ]
        },
        {
         "name": "Local",
         "type": "bar",
         "x": [
          "BJXCR",
          "CJSAT",
          "CUNPL",
          "CUUCY",
          "CUUDE",
          "CUUMI",
          "CUUMX",
          "CUUWY",
          "GDLAN",
          "GDLAR",
          "GDLVI",
          "HMORS",
          "JUAMI",
          "JUAZO",
          "MEXAC",
          "MIDNT",
          "MTYCP",
          "MTYGA",
          "MTYJW",
          "MTYVR",
          "MTYWI",
          "MTYZO",
          "MTYZV",
          "PBCCY",
          "PBCMC",
          "QROHT",
          "REXHA",
          "REXVF",
          "SLWCS",
          "SLWHA",
          "SLWZO",
          "TAMAL",
          "TLUDR",
          "TLUMI",
          "TLUZO",
          "TRCHA"
         ],
         "y": [
          0.3662731006160164,
          0.16795806745670008,
          0.20878854090798737,
          0.43538558520697623,
          0.22777661577075925,
          0.3227848101265823,
          0.20829898323715307,
          0.40076923076923077,
          0.15878378378378377,
          0.19357798165137616,
          0.16629325367189446,
          0.11993323795898903,
          0.2556203164029975,
          0.2511644571838051,
          0.327896138482024,
          0.8423319489309337,
          0.10585624039610722,
          0.15037593984962405,
          0.21875576887576148,
          0.10830479452054795,
          0.21954887218045113,
          0.15704113924050633,
          0.21194077888638557,
          0.4632993281910923,
          0.1946487247692067,
          0.3229679802955665,
          0.26774924471299094,
          0.1912620206577229,
          0.22248464808691545,
          0.13073913938645254,
          0.15340331865899084,
          0.6186822555109001,
          0.1143323805634953,
          0.11753371868978806,
          0.25950890707751567,
          0.23200312989045382
         ]
        }
       ],
       "layout": {
        "barmode": "stack",
        "template": {
         "data": {
          "bar": [
           {
            "error_x": {
             "color": "#2a3f5f"
            },
            "error_y": {
             "color": "#2a3f5f"
            },
            "marker": {
             "line": {
              "color": "#E5ECF6",
              "width": 0.5
             },
             "pattern": {
              "fillmode": "overlay",
              "size": 10,
              "solidity": 0.2
             }
            },
            "type": "bar"
           }
          ],
          "barpolar": [
           {
            "marker": {
             "line": {
              "color": "#E5ECF6",
              "width": 0.5
             },
             "pattern": {
              "fillmode": "overlay",
              "size": 10,
              "solidity": 0.2
             }
            },
            "type": "barpolar"
           }
          ],
          "carpet": [
           {
            "aaxis": {
             "endlinecolor": "#2a3f5f",
             "gridcolor": "white",
             "linecolor": "white",
             "minorgridcolor": "white",
             "startlinecolor": "#2a3f5f"
            },
            "baxis": {
             "endlinecolor": "#2a3f5f",
             "gridcolor": "white",
             "linecolor": "white",
             "minorgridcolor": "white",
             "startlinecolor": "#2a3f5f"
            },
            "type": "carpet"
           }
          ],
          "choropleth": [
           {
            "colorbar": {
             "outlinewidth": 0,
             "ticks": ""
            },
            "type": "choropleth"
           }
          ],
          "contour": [
           {
            "colorbar": {
             "outlinewidth": 0,
             "ticks": ""
            },
            "colorscale": [
             [
              0,
              "#0d0887"
             ],
             [
              0.1111111111111111,
              "#46039f"
             ],
             [
              0.2222222222222222,
              "#7201a8"
             ],
             [
              0.3333333333333333,
              "#9c179e"
             ],
             [
              0.4444444444444444,
              "#bd3786"
             ],
             [
              0.5555555555555556,
              "#d8576b"
             ],
             [
              0.6666666666666666,
              "#ed7953"
             ],
             [
              0.7777777777777778,
              "#fb9f3a"
             ],
             [
              0.8888888888888888,
              "#fdca26"
             ],
             [
              1,
              "#f0f921"
             ]
            ],
            "type": "contour"
           }
          ],
          "contourcarpet": [
           {
            "colorbar": {
             "outlinewidth": 0,
             "ticks": ""
            },
            "type": "contourcarpet"
           }
          ],
          "heatmap": [
           {
            "colorbar": {
             "outlinewidth": 0,
             "ticks": ""
            },
            "colorscale": [
             [
              0,
              "#0d0887"
             ],
             [
              0.1111111111111111,
              "#46039f"
             ],
             [
              0.2222222222222222,
              "#7201a8"
             ],
             [
              0.3333333333333333,
              "#9c179e"
             ],
             [
              0.4444444444444444,
              "#bd3786"
             ],
             [
              0.5555555555555556,
              "#d8576b"
             ],
             [
              0.6666666666666666,
              "#ed7953"
             ],
             [
              0.7777777777777778,
              "#fb9f3a"
             ],
             [
              0.8888888888888888,
              "#fdca26"
             ],
             [
              1,
              "#f0f921"
             ]
            ],
            "type": "heatmap"
           }
          ],
          "heatmapgl": [
           {
            "colorbar": {
             "outlinewidth": 0,
             "ticks": ""
            },
            "colorscale": [
             [
              0,
              "#0d0887"
             ],
             [
              0.1111111111111111,
              "#46039f"
             ],
             [
              0.2222222222222222,
              "#7201a8"
             ],
             [
              0.3333333333333333,
              "#9c179e"
             ],
             [
              0.4444444444444444,
              "#bd3786"
             ],
             [
              0.5555555555555556,
              "#d8576b"
             ],
             [
              0.6666666666666666,
              "#ed7953"
             ],
             [
              0.7777777777777778,
              "#fb9f3a"
             ],
             [
              0.8888888888888888,
              "#fdca26"
             ],
             [
              1,
              "#f0f921"
             ]
            ],
            "type": "heatmapgl"
           }
          ],
          "histogram": [
           {
            "marker": {
             "pattern": {
              "fillmode": "overlay",
              "size": 10,
              "solidity": 0.2
             }
            },
            "type": "histogram"
           }
          ],
          "histogram2d": [
           {
            "colorbar": {
             "outlinewidth": 0,
             "ticks": ""
            },
            "colorscale": [
             [
              0,
              "#0d0887"
             ],
             [
              0.1111111111111111,
              "#46039f"
             ],
             [
              0.2222222222222222,
              "#7201a8"
             ],
             [
              0.3333333333333333,
              "#9c179e"
             ],
             [
              0.4444444444444444,
              "#bd3786"
             ],
             [
              0.5555555555555556,
              "#d8576b"
             ],
             [
              0.6666666666666666,
              "#ed7953"
             ],
             [
              0.7777777777777778,
              "#fb9f3a"
             ],
             [
              0.8888888888888888,
              "#fdca26"
             ],
             [
              1,
              "#f0f921"
             ]
            ],
            "type": "histogram2d"
           }
          ],
          "histogram2dcontour": [
           {
            "colorbar": {
             "outlinewidth": 0,
             "ticks": ""
            },
            "colorscale": [
             [
              0,
              "#0d0887"
             ],
             [
              0.1111111111111111,
              "#46039f"
             ],
             [
              0.2222222222222222,
              "#7201a8"
             ],
             [
              0.3333333333333333,
              "#9c179e"
             ],
             [
              0.4444444444444444,
              "#bd3786"
             ],
             [
              0.5555555555555556,
              "#d8576b"
             ],
             [
              0.6666666666666666,
              "#ed7953"
             ],
             [
              0.7777777777777778,
              "#fb9f3a"
             ],
             [
              0.8888888888888888,
              "#fdca26"
             ],
             [
              1,
              "#f0f921"
             ]
            ],
            "type": "histogram2dcontour"
           }
          ],
          "mesh3d": [
           {
            "colorbar": {
             "outlinewidth": 0,
             "ticks": ""
            },
            "type": "mesh3d"
           }
          ],
          "parcoords": [
           {
            "line": {
             "colorbar": {
              "outlinewidth": 0,
              "ticks": ""
             }
            },
            "type": "parcoords"
           }
          ],
          "pie": [
           {
            "automargin": true,
            "type": "pie"
           }
          ],
          "scatter": [
           {
            "marker": {
             "colorbar": {
              "outlinewidth": 0,
              "ticks": ""
             }
            },
            "type": "scatter"
           }
          ],
          "scatter3d": [
           {
            "line": {
             "colorbar": {
              "outlinewidth": 0,
              "ticks": ""
             }
            },
            "marker": {
             "colorbar": {
              "outlinewidth": 0,
              "ticks": ""
             }
            },
            "type": "scatter3d"
           }
          ],
          "scattercarpet": [
           {
            "marker": {
             "colorbar": {
              "outlinewidth": 0,
              "ticks": ""
             }
            },
            "type": "scattercarpet"
           }
          ],
          "scattergeo": [
           {
            "marker": {
             "colorbar": {
              "outlinewidth": 0,
              "ticks": ""
             }
            },
            "type": "scattergeo"
           }
          ],
          "scattergl": [
           {
            "marker": {
             "colorbar": {
              "outlinewidth": 0,
              "ticks": ""
             }
            },
            "type": "scattergl"
           }
          ],
          "scattermapbox": [
           {
            "marker": {
             "colorbar": {
              "outlinewidth": 0,
              "ticks": ""
             }
            },
            "type": "scattermapbox"
           }
          ],
          "scatterpolar": [
           {
            "marker": {
             "colorbar": {
              "outlinewidth": 0,
              "ticks": ""
             }
            },
            "type": "scatterpolar"
           }
          ],
          "scatterpolargl": [
           {
            "marker": {
             "colorbar": {
              "outlinewidth": 0,
              "ticks": ""
             }
            },
            "type": "scatterpolargl"
           }
          ],
          "scatterternary": [
           {
            "marker": {
             "colorbar": {
              "outlinewidth": 0,
              "ticks": ""
             }
            },
            "type": "scatterternary"
           }
          ],
          "surface": [
           {
            "colorbar": {
             "outlinewidth": 0,
             "ticks": ""
            },
            "colorscale": [
             [
              0,
              "#0d0887"
             ],
             [
              0.1111111111111111,
              "#46039f"
             ],
             [
              0.2222222222222222,
              "#7201a8"
             ],
             [
              0.3333333333333333,
              "#9c179e"
             ],
             [
              0.4444444444444444,
              "#bd3786"
             ],
             [
              0.5555555555555556,
              "#d8576b"
             ],
             [
              0.6666666666666666,
              "#ed7953"
             ],
             [
              0.7777777777777778,
              "#fb9f3a"
             ],
             [
              0.8888888888888888,
              "#fdca26"
             ],
             [
              1,
              "#f0f921"
             ]
            ],
            "type": "surface"
           }
          ],
          "table": [
           {
            "cells": {
             "fill": {
              "color": "#EBF0F8"
             },
             "line": {
              "color": "white"
             }
            },
            "header": {
             "fill": {
              "color": "#C8D4E3"
             },
             "line": {
              "color": "white"
             }
            },
            "type": "table"
           }
          ]
         },
         "layout": {
          "annotationdefaults": {
           "arrowcolor": "#2a3f5f",
           "arrowhead": 0,
           "arrowwidth": 1
          },
          "autotypenumbers": "strict",
          "coloraxis": {
           "colorbar": {
            "outlinewidth": 0,
            "ticks": ""
           }
          },
          "colorscale": {
           "diverging": [
            [
             0,
             "#8e0152"
            ],
            [
             0.1,
             "#c51b7d"
            ],
            [
             0.2,
             "#de77ae"
            ],
            [
             0.3,
             "#f1b6da"
            ],
            [
             0.4,
             "#fde0ef"
            ],
            [
             0.5,
             "#f7f7f7"
            ],
            [
             0.6,
             "#e6f5d0"
            ],
            [
             0.7,
             "#b8e186"
            ],
            [
             0.8,
             "#7fbc41"
            ],
            [
             0.9,
             "#4d9221"
            ],
            [
             1,
             "#276419"
            ]
           ],
           "sequential": [
            [
             0,
             "#0d0887"
            ],
            [
             0.1111111111111111,
             "#46039f"
            ],
            [
             0.2222222222222222,
             "#7201a8"
            ],
            [
             0.3333333333333333,
             "#9c179e"
            ],
            [
             0.4444444444444444,
             "#bd3786"
            ],
            [
             0.5555555555555556,
             "#d8576b"
            ],
            [
             0.6666666666666666,
             "#ed7953"
            ],
            [
             0.7777777777777778,
             "#fb9f3a"
            ],
            [
             0.8888888888888888,
             "#fdca26"
            ],
            [
             1,
             "#f0f921"
            ]
           ],
           "sequentialminus": [
            [
             0,
             "#0d0887"
            ],
            [
             0.1111111111111111,
             "#46039f"
            ],
            [
             0.2222222222222222,
             "#7201a8"
            ],
            [
             0.3333333333333333,
             "#9c179e"
            ],
            [
             0.4444444444444444,
             "#bd3786"
            ],
            [
             0.5555555555555556,
             "#d8576b"
            ],
            [
             0.6666666666666666,
             "#ed7953"
            ],
            [
             0.7777777777777778,
             "#fb9f3a"
            ],
            [
             0.8888888888888888,
             "#fdca26"
            ],
            [
             1,
             "#f0f921"
            ]
           ]
          },
          "colorway": [
           "#636efa",
           "#EF553B",
           "#00cc96",
           "#ab63fa",
           "#FFA15A",
           "#19d3f3",
           "#FF6692",
           "#B6E880",
           "#FF97FF",
           "#FECB52"
          ],
          "font": {
           "color": "#2a3f5f"
          },
          "geo": {
           "bgcolor": "white",
           "lakecolor": "white",
           "landcolor": "#E5ECF6",
           "showlakes": true,
           "showland": true,
           "subunitcolor": "white"
          },
          "hoverlabel": {
           "align": "left"
          },
          "hovermode": "closest",
          "mapbox": {
           "style": "light"
          },
          "paper_bgcolor": "white",
          "plot_bgcolor": "#E5ECF6",
          "polar": {
           "angularaxis": {
            "gridcolor": "white",
            "linecolor": "white",
            "ticks": ""
           },
           "bgcolor": "#E5ECF6",
           "radialaxis": {
            "gridcolor": "white",
            "linecolor": "white",
            "ticks": ""
           }
          },
          "scene": {
           "xaxis": {
            "backgroundcolor": "#E5ECF6",
            "gridcolor": "white",
            "gridwidth": 2,
            "linecolor": "white",
            "showbackground": true,
            "ticks": "",
            "zerolinecolor": "white"
           },
           "yaxis": {
            "backgroundcolor": "#E5ECF6",
            "gridcolor": "white",
            "gridwidth": 2,
            "linecolor": "white",
            "showbackground": true,
            "ticks": "",
            "zerolinecolor": "white"
           },
           "zaxis": {
            "backgroundcolor": "#E5ECF6",
            "gridcolor": "white",
            "gridwidth": 2,
            "linecolor": "white",
            "showbackground": true,
            "ticks": "",
            "zerolinecolor": "white"
           }
          },
          "shapedefaults": {
           "line": {
            "color": "#2a3f5f"
           }
          },
          "ternary": {
           "aaxis": {
            "gridcolor": "white",
            "linecolor": "white",
            "ticks": ""
           },
           "baxis": {
            "gridcolor": "white",
            "linecolor": "white",
            "ticks": ""
           },
           "bgcolor": "#E5ECF6",
           "caxis": {
            "gridcolor": "white",
            "linecolor": "white",
            "ticks": ""
           }
          },
          "title": {
           "x": 0.05
          },
          "xaxis": {
           "automargin": true,
           "gridcolor": "white",
           "linecolor": "white",
           "ticks": "",
           "title": {
            "standoff": 15
           },
           "zerolinecolor": "white",
           "zerolinewidth": 2
          },
          "yaxis": {
           "automargin": true,
           "gridcolor": "white",
           "linecolor": "white",
           "ticks": "",
           "title": {
            "standoff": 15
           },
           "zerolinecolor": "white",
           "zerolinewidth": 2
          }
         }
        },
        "title": {
         "text": "Proporción de compras con tipo de proveedor"
        }
       }
      }
     },
     "metadata": {},
     "output_type": "display_data"
    }
   ],
   "source": [
    "data = []\n",
    "#use for loop on every zoo name to create bar data\n",
    "for x in cross_tab.columns:\n",
    "    data.append(go.Bar(name=str(x), x=cross_tab.index, y=cross_tab[x]))\n",
    "\n",
    "figure = go.Figure(data)\n",
    "figure.update_layout(barmode = 'stack', title='Proporción de compras con tipo de proveedor')\n",
    "\n",
    "#For you to take a look at the result use\n",
    "figure.show()"
   ]
  },
  {
   "cell_type": "code",
   "execution_count": 9,
   "metadata": {},
   "outputs": [],
   "source": [
    "purchase_data_detail = pd.merge(left = purchase_data, right = pmc, how = 'left', left_on = 'material_id', right_on = 'id')\n",
    "purchase_data_detail.drop(columns = ['id', 'group', 'unit_y', 'name', 'unit_name'], inplace = True)\n",
    "purchase_data_detail.rename(columns = {'unit_x': 'unit'}, inplace = True)"
   ]
  },
  {
   "cell_type": "code",
   "execution_count": 10,
   "metadata": {},
   "outputs": [],
   "source": [
    "group_name = purchase_data_detail['group_name'].value_counts().rename_axis('group_name').reset_index(name='counts')\n",
    "group_name = group_name.head(10)\n",
    "top10_groups = group_name['group_name'].unique()\n",
    "\n",
    "groups_purchase_detail_df = purchase_data_detail[purchase_data_detail['group_name'].isin(top10_groups)]\n",
    "\n",
    "cross_tab2 = pd.crosstab(index=groups_purchase_detail_df['venue_code'],\n",
    "                             columns=groups_purchase_detail_df['group_name'],\n",
    "                             normalize=\"index\")"
   ]
  },
  {
   "cell_type": "code",
   "execution_count": 14,
   "metadata": {},
   "outputs": [
    {
     "data": {
      "application/vnd.plotly.v1+json": {
       "config": {
        "plotlyServerURL": "https://plot.ly"
       },
       "data": [
        {
         "name": "Bakery",
         "type": "bar",
         "x": [
          "BJXCR",
          "CJSAT",
          "CUNPL",
          "CUUCY",
          "CUUDE",
          "CUUMI",
          "CUUMX",
          "CUUWY",
          "GDLAN",
          "GDLAR",
          "GDLVI",
          "HMORS",
          "JUAMI",
          "JUAZO",
          "MEXAC",
          "MIDNT",
          "MTYCP",
          "MTYGA",
          "MTYJW",
          "MTYVR",
          "MTYWI",
          "MTYZO",
          "MTYZV",
          "PBCCY",
          "PBCMC",
          "QROHT",
          "REXHA",
          "REXVF",
          "SLWCS",
          "SLWHA",
          "SLWZO",
          "TAMAL",
          "TLUDR",
          "TLUMI",
          "TLUZO",
          "TRCHA"
         ],
         "y": [
          0.020120014119308152,
          0.023895253682487724,
          0.044798785117691725,
          0.05116909522195866,
          0.058150619637750235,
          0.1238244514106583,
          0.005298013245033113,
          0.023504273504273504,
          0.0027491408934707906,
          0.052251632863526985,
          0.019195943498732344,
          0.0690546528803545,
          0.013777267508610792,
          0.011776753712237584,
          0.0055359838953195776,
          0.036500129433083096,
          0.0340993328391401,
          0.032467532467532464,
          0.015286991635419672,
          0.04463208685162847,
          0.01953381483913329,
          0.02556653108657757,
          0.022037218413320275,
          0.04522431259044862,
          0.010717990088740349,
          0.05642023346303502,
          0.06530343007915568,
          0.03138650703769617,
          0.03273007316134001,
          0.038636363636363635,
          0.04206675811614083,
          0.015365119594487565,
          0.010676156583629894,
          0.0035419126328217238,
          0.0013917884481558804,
          0.013215859030837005
         ]
        },
        {
         "name": "Cereals and Legumes",
         "type": "bar",
         "x": [
          "BJXCR",
          "CJSAT",
          "CUNPL",
          "CUUCY",
          "CUUDE",
          "CUUMI",
          "CUUMX",
          "CUUWY",
          "GDLAN",
          "GDLAR",
          "GDLVI",
          "HMORS",
          "JUAMI",
          "JUAZO",
          "MEXAC",
          "MIDNT",
          "MTYCP",
          "MTYGA",
          "MTYJW",
          "MTYVR",
          "MTYWI",
          "MTYZO",
          "MTYZV",
          "PBCCY",
          "PBCMC",
          "QROHT",
          "REXHA",
          "REXVF",
          "SLWCS",
          "SLWHA",
          "SLWZO",
          "TAMAL",
          "TLUDR",
          "TLUMI",
          "TLUZO",
          "TRCHA"
         ],
         "y": [
          0.04059301094246382,
          0.03273322422258593,
          0.03834472285497342,
          0.028126058963063368,
          0.031140768986336193,
          0.01018808777429467,
          0.017218543046357615,
          0.02329059829059829,
          0.06666666666666667,
          0.029907184599518737,
          0.02426657008330315,
          0.044682422451994094,
          0.040183696900114814,
          0.026625704045058884,
          0.010065425264217413,
          0.03391146777116231,
          0.014578700271806275,
          0.04495504495504495,
          0.013844822613210269,
          0.05729794933655006,
          0.025443204202232436,
          0.03776873910517141,
          0.017140058765915768,
          0.02243125904486252,
          0.018324305635588338,
          0.010116731517509728,
          0.056068601583113456,
          0.016016825756350106,
          0.023488640739314594,
          0.03238636363636364,
          0.0283493369913123,
          0.01774116901631554,
          0.009150991357397052,
          0.01652892561983471,
          0.0013917884481558804,
          0.07158590308370044
         ]
        },
        {
         "name": "Cleaning accesories",
         "type": "bar",
         "x": [
          "BJXCR",
          "CJSAT",
          "CUNPL",
          "CUUCY",
          "CUUDE",
          "CUUMI",
          "CUUMX",
          "CUUWY",
          "GDLAN",
          "GDLAR",
          "GDLVI",
          "HMORS",
          "JUAMI",
          "JUAZO",
          "MEXAC",
          "MIDNT",
          "MTYCP",
          "MTYGA",
          "MTYJW",
          "MTYVR",
          "MTYWI",
          "MTYZO",
          "MTYZV",
          "PBCCY",
          "PBCMC",
          "QROHT",
          "REXHA",
          "REXVF",
          "SLWCS",
          "SLWHA",
          "SLWZO",
          "TAMAL",
          "TLUDR",
          "TLUMI",
          "TLUZO",
          "TRCHA"
         ],
         "y": [
          0.06741969643487469,
          0.10736497545008183,
          0.12376613515565679,
          0.12097594035920027,
          0.11026374324753734,
          0.2421630094043887,
          0.14392935982339955,
          0.08824786324786325,
          0.14914089347079038,
          0.0711584737023032,
          0.13038754074610648,
          0.11521418020679468,
          0.2537313432835821,
          0.20532514080901176,
          0.08807247106190237,
          0.06989386487186125,
          0.08994316777860144,
          0.15934065934065933,
          0.026535910008653015,
          0.10856453558504221,
          0.05203545633617859,
          0.14294015107495642,
          0.07664054848188051,
          0.05028943560057887,
          0.03457416157658177,
          0.07976653696498054,
          0.18469656992084432,
          0.060669794531629184,
          0.11705814401232191,
          0.11988636363636364,
          0.1700960219478738,
          0.09535878346269602,
          0.10930350788002034,
          0.1381345926800472,
          0.18580375782881003,
          0.12555066079295155
         ]
        },
        {
         "name": "Dairy Products",
         "type": "bar",
         "x": [
          "BJXCR",
          "CJSAT",
          "CUNPL",
          "CUUCY",
          "CUUDE",
          "CUUMI",
          "CUUMX",
          "CUUWY",
          "GDLAN",
          "GDLAR",
          "GDLVI",
          "HMORS",
          "JUAMI",
          "JUAZO",
          "MEXAC",
          "MIDNT",
          "MTYCP",
          "MTYGA",
          "MTYJW",
          "MTYVR",
          "MTYWI",
          "MTYZO",
          "MTYZV",
          "PBCCY",
          "PBCMC",
          "QROHT",
          "REXHA",
          "REXVF",
          "SLWCS",
          "SLWHA",
          "SLWZO",
          "TAMAL",
          "TLUDR",
          "TLUMI",
          "TLUZO",
          "TRCHA"
         ],
         "y": [
          0.08824567596187786,
          0.0657937806873977,
          0.10364464692482915,
          0.08268383598780074,
          0.10041309183349222,
          0.045454545454545456,
          0.1969094922737307,
          0.10085470085470086,
          0.11065292096219931,
          0.09487796493640427,
          0.09018471568272365,
          0.08493353028064993,
          0.06544202066590127,
          0.0409626216077829,
          0.07851031706089583,
          0.07274139269997411,
          0.07165801828514949,
          0.08191808191808192,
          0.04095760023074704,
          0.09047044632086852,
          0.05712409717662508,
          0.07669959325973272,
          0.08961802154750245,
          0.08393632416787265,
          0.06350121009565518,
          0.0688715953307393,
          0.10026385224274406,
          0.05225691635657661,
          0.08124759337697343,
          0.05909090909090909,
          0.09510745313214448,
          0.03817519404403612,
          0.03812913065582105,
          0.047225501770956316,
          0.04453723034098817,
          0.09691629955947137
         ]
        },
        {
         "name": "Food and Beverages Supplies",
         "type": "bar",
         "x": [
          "BJXCR",
          "CJSAT",
          "CUNPL",
          "CUUCY",
          "CUUDE",
          "CUUMI",
          "CUUMX",
          "CUUWY",
          "GDLAN",
          "GDLAR",
          "GDLVI",
          "HMORS",
          "JUAMI",
          "JUAZO",
          "MEXAC",
          "MIDNT",
          "MTYCP",
          "MTYGA",
          "MTYJW",
          "MTYVR",
          "MTYWI",
          "MTYZO",
          "MTYZV",
          "PBCCY",
          "PBCMC",
          "QROHT",
          "REXHA",
          "REXVF",
          "SLWCS",
          "SLWHA",
          "SLWZO",
          "TAMAL",
          "TLUDR",
          "TLUMI",
          "TLUZO",
          "TRCHA"
         ],
         "y": [
          0.023649841157783267,
          0.054009819967266774,
          0.02126044039483675,
          0.04811928159945781,
          0.029551954242135366,
          0.07915360501567398,
          0.08565121412803532,
          0.01858974358974359,
          0.015807560137457044,
          0.023375730491577863,
          0.035856573705179286,
          0.024741506646971934,
          0.10332950631458095,
          0.11623143881208398,
          0.019124308002013084,
          0.022003624126326688,
          0.038052878675562146,
          0.08291708291708291,
          0.02047880011537352,
          0.05609167671893848,
          0.019041365725541694,
          0.07728065078442765,
          0.03379040156709109,
          0.028581765557163533,
          0.015558372709461796,
          0.026070038910505838,
          0.10092348284960422,
          0.05694871380035593,
          0.04851752021563342,
          0.054261363636363635,
          0.06172839506172839,
          0.03801679074924758,
          0.019318759532282664,
          0.06198347107438017,
          0.020876826722338204,
          0.05726872246696035
         ]
        },
        {
         "name": "Fruits & Vegetables",
         "type": "bar",
         "x": [
          "BJXCR",
          "CJSAT",
          "CUNPL",
          "CUUCY",
          "CUUDE",
          "CUUMI",
          "CUUMX",
          "CUUWY",
          "GDLAN",
          "GDLAR",
          "GDLVI",
          "HMORS",
          "JUAMI",
          "JUAZO",
          "MEXAC",
          "MIDNT",
          "MTYCP",
          "MTYGA",
          "MTYJW",
          "MTYVR",
          "MTYWI",
          "MTYZO",
          "MTYZV",
          "PBCCY",
          "PBCMC",
          "QROHT",
          "REXHA",
          "REXVF",
          "SLWCS",
          "SLWHA",
          "SLWZO",
          "TAMAL",
          "TLUDR",
          "TLUMI",
          "TLUZO",
          "TRCHA"
         ],
         "y": [
          0.5958348040945993,
          0.5682487725040917,
          0.4832953682611997,
          0.455099966113182,
          0.47219574197648556,
          0.329153605015674,
          0.433112582781457,
          0.535042735042735,
          0.5278350515463918,
          0.6167067720866277,
          0.598696124592539,
          0.508493353028065,
          0.39265212399540755,
          0.4567332309267793,
          0.6502264720684449,
          0.5775304167745275,
          0.5969854212997282,
          0.4875124875124875,
          0.8110758580905683,
          0.45235223160434257,
          0.724064346684176,
          0.5316676350958744,
          0.6356513222331048,
          0.6313314037626628,
          0.7525642503169299,
          0.6350194552529183,
          0.38258575197889183,
          0.6856495712667853,
          0.5860608394301117,
          0.5758522727272727,
          0.49108367626886146,
          0.6776492951053382,
          0.7946110828673106,
          0.654073199527745,
          0.6868475991649269,
          0.5770925110132159
         ]
        },
        {
         "name": "Meats",
         "type": "bar",
         "x": [
          "BJXCR",
          "CJSAT",
          "CUNPL",
          "CUUCY",
          "CUUDE",
          "CUUMI",
          "CUUMX",
          "CUUWY",
          "GDLAN",
          "GDLAR",
          "GDLVI",
          "HMORS",
          "JUAMI",
          "JUAZO",
          "MEXAC",
          "MIDNT",
          "MTYCP",
          "MTYGA",
          "MTYJW",
          "MTYVR",
          "MTYWI",
          "MTYZO",
          "MTYZV",
          "PBCCY",
          "PBCMC",
          "QROHT",
          "REXHA",
          "REXVF",
          "SLWCS",
          "SLWHA",
          "SLWZO",
          "TAMAL",
          "TLUDR",
          "TLUMI",
          "TLUZO",
          "TRCHA"
         ],
         "y": [
          0.0769502294387575,
          0.043862520458265136,
          0.06529992406985573,
          0.0857336496103016,
          0.09945980298697171,
          0.041536050156739814,
          0.009271523178807948,
          0.10747863247863249,
          0.03436426116838488,
          0.03471983499484359,
          0.0286128214415067,
          0.06425406203840472,
          0.022962112514351322,
          0.03942652329749104,
          0.058882737795671866,
          0.05850375355940979,
          0.06251544353842352,
          0.029970029970029972,
          0.03432362272858379,
          0.033172496984318456,
          0.043827971109652,
          0.009877977919814061,
          0.03795298726738491,
          0.05209840810419682,
          0.05047827590180938,
          0.04669260700389105,
          0.006596306068601583,
          0.0376961656689856,
          0.03157489410858683,
          0.042897727272727275,
          0.010973936899862825,
          0.025502930460953588,
          0,
          0.0023612750885478157,
          0.006958942240779402,
          0.004405286343612335
         ]
        },
        {
         "name": "Office Supplies",
         "type": "bar",
         "x": [
          "BJXCR",
          "CJSAT",
          "CUNPL",
          "CUUCY",
          "CUUDE",
          "CUUMI",
          "CUUMX",
          "CUUWY",
          "GDLAN",
          "GDLAR",
          "GDLVI",
          "HMORS",
          "JUAMI",
          "JUAZO",
          "MEXAC",
          "MIDNT",
          "MTYCP",
          "MTYGA",
          "MTYJW",
          "MTYVR",
          "MTYWI",
          "MTYZO",
          "MTYZV",
          "PBCCY",
          "PBCMC",
          "QROHT",
          "REXHA",
          "REXVF",
          "SLWCS",
          "SLWHA",
          "SLWZO",
          "TAMAL",
          "TLUDR",
          "TLUMI",
          "TLUZO",
          "TRCHA"
         ],
         "y": [
          0.015884221673138015,
          0.01734860883797054,
          0.05618830675778284,
          0.05354117248390376,
          0.019701302828090246,
          0.06269592476489028,
          0.0282560706401766,
          0.02435897435897436,
          0.018556701030927835,
          0.025094534204193882,
          0.017022817819630567,
          0.011078286558345642,
          0.04133180252583238,
          0.030209933435739886,
          0.018117765475591345,
          0.05772715506083355,
          0.029651593773165306,
          0.017982017982017984,
          0.0023074704355350445,
          0.03739445114595899,
          0.027248850952068287,
          0.030796048808832074,
          0.028158667972575907,
          0.015918958031837915,
          0.017287080788290884,
          0.0011673151750972762,
          0.037598944591029027,
          0.021679339912635497,
          0.011551790527531768,
          0.009943181818181818,
          0.025148605395518976,
          0.02851259306193569,
          0.004575495678698526,
          0.05076741440377804,
          0.022964509394572025,
          0.03909691629955947
         ]
        },
        {
         "name": "Poultry",
         "type": "bar",
         "x": [
          "BJXCR",
          "CJSAT",
          "CUNPL",
          "CUUCY",
          "CUUDE",
          "CUUMI",
          "CUUMX",
          "CUUWY",
          "GDLAN",
          "GDLAR",
          "GDLVI",
          "HMORS",
          "JUAMI",
          "JUAZO",
          "MEXAC",
          "MIDNT",
          "MTYCP",
          "MTYGA",
          "MTYJW",
          "MTYVR",
          "MTYWI",
          "MTYZO",
          "MTYZV",
          "PBCCY",
          "PBCMC",
          "QROHT",
          "REXHA",
          "REXVF",
          "SLWCS",
          "SLWHA",
          "SLWZO",
          "TAMAL",
          "TLUDR",
          "TLUMI",
          "TLUZO",
          "TRCHA"
         ],
         "y": [
          0.032827391457818565,
          0.050409165302782326,
          0.04214123006833713,
          0.03896984073195527,
          0.05147759771210677,
          0.024294670846394983,
          0.025165562913907286,
          0.04722222222222222,
          0.03848797250859107,
          0.023031969749054658,
          0.023180007243752264,
          0.04172821270310192,
          0.0539609644087256,
          0.053763440860215055,
          0.033719174635128336,
          0.043230649754077144,
          0.030639980232270818,
          0.030469530469530468,
          0.01615229304874531,
          0.06031363088057901,
          0.022816808929743925,
          0.04357931435212086,
          0.03819784524975514,
          0.04232995658465991,
          0.022818946640543968,
          0.04046692607003891,
          0.040897097625329816,
          0.020546837081378416,
          0.04235656526761648,
          0.036079545454545454,
          0.039323273891175126,
          0.045461745604308566,
          0.013726487036095577,
          0.01770956316410862,
          0.013917884481558803,
          0.014317180616740088
         ]
        },
        {
         "name": "Sausages",
         "type": "bar",
         "x": [
          "BJXCR",
          "CJSAT",
          "CUNPL",
          "CUUCY",
          "CUUDE",
          "CUUMI",
          "CUUMX",
          "CUUWY",
          "GDLAN",
          "GDLAR",
          "GDLVI",
          "HMORS",
          "JUAMI",
          "JUAZO",
          "MEXAC",
          "MIDNT",
          "MTYCP",
          "MTYGA",
          "MTYJW",
          "MTYVR",
          "MTYWI",
          "MTYZO",
          "MTYZV",
          "PBCCY",
          "PBCMC",
          "QROHT",
          "REXHA",
          "REXVF",
          "SLWCS",
          "SLWHA",
          "SLWZO",
          "TAMAL",
          "TLUDR",
          "TLUMI",
          "TLUZO",
          "TRCHA"
         ],
         "y": [
          0.03847511471937875,
          0.036333878887070375,
          0.02126044039483675,
          0.03558115892917655,
          0.027645376549094377,
          0.041536050156739814,
          0.05518763796909492,
          0.03141025641025641,
          0.03573883161512027,
          0.028875902371949123,
          0.03259688518652662,
          0.03581979320531758,
          0.012629161882893225,
          0.01894521249359959,
          0.0377453447408153,
          0.0279575459487445,
          0.03187546330615271,
          0.032467532467532464,
          0.01903663109316412,
          0.05971049457177322,
          0.00886408404464872,
          0.023823358512492735,
          0.02081292850146915,
          0.027858176555716353,
          0.014175406246398525,
          0.035408560311284046,
          0.025065963060686015,
          0.017149328587607184,
          0.025413939160569887,
          0.030965909090909093,
          0.0361225422953818,
          0.018216378900681136,
          0.0005083884087442806,
          0.007674144037780401,
          0.015309672929714684,
          0.0005506607929515419
         ]
        }
       ],
       "layout": {
        "barmode": "stack",
        "template": {
         "data": {
          "bar": [
           {
            "error_x": {
             "color": "#2a3f5f"
            },
            "error_y": {
             "color": "#2a3f5f"
            },
            "marker": {
             "line": {
              "color": "#E5ECF6",
              "width": 0.5
             },
             "pattern": {
              "fillmode": "overlay",
              "size": 10,
              "solidity": 0.2
             }
            },
            "type": "bar"
           }
          ],
          "barpolar": [
           {
            "marker": {
             "line": {
              "color": "#E5ECF6",
              "width": 0.5
             },
             "pattern": {
              "fillmode": "overlay",
              "size": 10,
              "solidity": 0.2
             }
            },
            "type": "barpolar"
           }
          ],
          "carpet": [
           {
            "aaxis": {
             "endlinecolor": "#2a3f5f",
             "gridcolor": "white",
             "linecolor": "white",
             "minorgridcolor": "white",
             "startlinecolor": "#2a3f5f"
            },
            "baxis": {
             "endlinecolor": "#2a3f5f",
             "gridcolor": "white",
             "linecolor": "white",
             "minorgridcolor": "white",
             "startlinecolor": "#2a3f5f"
            },
            "type": "carpet"
           }
          ],
          "choropleth": [
           {
            "colorbar": {
             "outlinewidth": 0,
             "ticks": ""
            },
            "type": "choropleth"
           }
          ],
          "contour": [
           {
            "colorbar": {
             "outlinewidth": 0,
             "ticks": ""
            },
            "colorscale": [
             [
              0,
              "#0d0887"
             ],
             [
              0.1111111111111111,
              "#46039f"
             ],
             [
              0.2222222222222222,
              "#7201a8"
             ],
             [
              0.3333333333333333,
              "#9c179e"
             ],
             [
              0.4444444444444444,
              "#bd3786"
             ],
             [
              0.5555555555555556,
              "#d8576b"
             ],
             [
              0.6666666666666666,
              "#ed7953"
             ],
             [
              0.7777777777777778,
              "#fb9f3a"
             ],
             [
              0.8888888888888888,
              "#fdca26"
             ],
             [
              1,
              "#f0f921"
             ]
            ],
            "type": "contour"
           }
          ],
          "contourcarpet": [
           {
            "colorbar": {
             "outlinewidth": 0,
             "ticks": ""
            },
            "type": "contourcarpet"
           }
          ],
          "heatmap": [
           {
            "colorbar": {
             "outlinewidth": 0,
             "ticks": ""
            },
            "colorscale": [
             [
              0,
              "#0d0887"
             ],
             [
              0.1111111111111111,
              "#46039f"
             ],
             [
              0.2222222222222222,
              "#7201a8"
             ],
             [
              0.3333333333333333,
              "#9c179e"
             ],
             [
              0.4444444444444444,
              "#bd3786"
             ],
             [
              0.5555555555555556,
              "#d8576b"
             ],
             [
              0.6666666666666666,
              "#ed7953"
             ],
             [
              0.7777777777777778,
              "#fb9f3a"
             ],
             [
              0.8888888888888888,
              "#fdca26"
             ],
             [
              1,
              "#f0f921"
             ]
            ],
            "type": "heatmap"
           }
          ],
          "heatmapgl": [
           {
            "colorbar": {
             "outlinewidth": 0,
             "ticks": ""
            },
            "colorscale": [
             [
              0,
              "#0d0887"
             ],
             [
              0.1111111111111111,
              "#46039f"
             ],
             [
              0.2222222222222222,
              "#7201a8"
             ],
             [
              0.3333333333333333,
              "#9c179e"
             ],
             [
              0.4444444444444444,
              "#bd3786"
             ],
             [
              0.5555555555555556,
              "#d8576b"
             ],
             [
              0.6666666666666666,
              "#ed7953"
             ],
             [
              0.7777777777777778,
              "#fb9f3a"
             ],
             [
              0.8888888888888888,
              "#fdca26"
             ],
             [
              1,
              "#f0f921"
             ]
            ],
            "type": "heatmapgl"
           }
          ],
          "histogram": [
           {
            "marker": {
             "pattern": {
              "fillmode": "overlay",
              "size": 10,
              "solidity": 0.2
             }
            },
            "type": "histogram"
           }
          ],
          "histogram2d": [
           {
            "colorbar": {
             "outlinewidth": 0,
             "ticks": ""
            },
            "colorscale": [
             [
              0,
              "#0d0887"
             ],
             [
              0.1111111111111111,
              "#46039f"
             ],
             [
              0.2222222222222222,
              "#7201a8"
             ],
             [
              0.3333333333333333,
              "#9c179e"
             ],
             [
              0.4444444444444444,
              "#bd3786"
             ],
             [
              0.5555555555555556,
              "#d8576b"
             ],
             [
              0.6666666666666666,
              "#ed7953"
             ],
             [
              0.7777777777777778,
              "#fb9f3a"
             ],
             [
              0.8888888888888888,
              "#fdca26"
             ],
             [
              1,
              "#f0f921"
             ]
            ],
            "type": "histogram2d"
           }
          ],
          "histogram2dcontour": [
           {
            "colorbar": {
             "outlinewidth": 0,
             "ticks": ""
            },
            "colorscale": [
             [
              0,
              "#0d0887"
             ],
             [
              0.1111111111111111,
              "#46039f"
             ],
             [
              0.2222222222222222,
              "#7201a8"
             ],
             [
              0.3333333333333333,
              "#9c179e"
             ],
             [
              0.4444444444444444,
              "#bd3786"
             ],
             [
              0.5555555555555556,
              "#d8576b"
             ],
             [
              0.6666666666666666,
              "#ed7953"
             ],
             [
              0.7777777777777778,
              "#fb9f3a"
             ],
             [
              0.8888888888888888,
              "#fdca26"
             ],
             [
              1,
              "#f0f921"
             ]
            ],
            "type": "histogram2dcontour"
           }
          ],
          "mesh3d": [
           {
            "colorbar": {
             "outlinewidth": 0,
             "ticks": ""
            },
            "type": "mesh3d"
           }
          ],
          "parcoords": [
           {
            "line": {
             "colorbar": {
              "outlinewidth": 0,
              "ticks": ""
             }
            },
            "type": "parcoords"
           }
          ],
          "pie": [
           {
            "automargin": true,
            "type": "pie"
           }
          ],
          "scatter": [
           {
            "marker": {
             "colorbar": {
              "outlinewidth": 0,
              "ticks": ""
             }
            },
            "type": "scatter"
           }
          ],
          "scatter3d": [
           {
            "line": {
             "colorbar": {
              "outlinewidth": 0,
              "ticks": ""
             }
            },
            "marker": {
             "colorbar": {
              "outlinewidth": 0,
              "ticks": ""
             }
            },
            "type": "scatter3d"
           }
          ],
          "scattercarpet": [
           {
            "marker": {
             "colorbar": {
              "outlinewidth": 0,
              "ticks": ""
             }
            },
            "type": "scattercarpet"
           }
          ],
          "scattergeo": [
           {
            "marker": {
             "colorbar": {
              "outlinewidth": 0,
              "ticks": ""
             }
            },
            "type": "scattergeo"
           }
          ],
          "scattergl": [
           {
            "marker": {
             "colorbar": {
              "outlinewidth": 0,
              "ticks": ""
             }
            },
            "type": "scattergl"
           }
          ],
          "scattermapbox": [
           {
            "marker": {
             "colorbar": {
              "outlinewidth": 0,
              "ticks": ""
             }
            },
            "type": "scattermapbox"
           }
          ],
          "scatterpolar": [
           {
            "marker": {
             "colorbar": {
              "outlinewidth": 0,
              "ticks": ""
             }
            },
            "type": "scatterpolar"
           }
          ],
          "scatterpolargl": [
           {
            "marker": {
             "colorbar": {
              "outlinewidth": 0,
              "ticks": ""
             }
            },
            "type": "scatterpolargl"
           }
          ],
          "scatterternary": [
           {
            "marker": {
             "colorbar": {
              "outlinewidth": 0,
              "ticks": ""
             }
            },
            "type": "scatterternary"
           }
          ],
          "surface": [
           {
            "colorbar": {
             "outlinewidth": 0,
             "ticks": ""
            },
            "colorscale": [
             [
              0,
              "#0d0887"
             ],
             [
              0.1111111111111111,
              "#46039f"
             ],
             [
              0.2222222222222222,
              "#7201a8"
             ],
             [
              0.3333333333333333,
              "#9c179e"
             ],
             [
              0.4444444444444444,
              "#bd3786"
             ],
             [
              0.5555555555555556,
              "#d8576b"
             ],
             [
              0.6666666666666666,
              "#ed7953"
             ],
             [
              0.7777777777777778,
              "#fb9f3a"
             ],
             [
              0.8888888888888888,
              "#fdca26"
             ],
             [
              1,
              "#f0f921"
             ]
            ],
            "type": "surface"
           }
          ],
          "table": [
           {
            "cells": {
             "fill": {
              "color": "#EBF0F8"
             },
             "line": {
              "color": "white"
             }
            },
            "header": {
             "fill": {
              "color": "#C8D4E3"
             },
             "line": {
              "color": "white"
             }
            },
            "type": "table"
           }
          ]
         },
         "layout": {
          "annotationdefaults": {
           "arrowcolor": "#2a3f5f",
           "arrowhead": 0,
           "arrowwidth": 1
          },
          "autotypenumbers": "strict",
          "coloraxis": {
           "colorbar": {
            "outlinewidth": 0,
            "ticks": ""
           }
          },
          "colorscale": {
           "diverging": [
            [
             0,
             "#8e0152"
            ],
            [
             0.1,
             "#c51b7d"
            ],
            [
             0.2,
             "#de77ae"
            ],
            [
             0.3,
             "#f1b6da"
            ],
            [
             0.4,
             "#fde0ef"
            ],
            [
             0.5,
             "#f7f7f7"
            ],
            [
             0.6,
             "#e6f5d0"
            ],
            [
             0.7,
             "#b8e186"
            ],
            [
             0.8,
             "#7fbc41"
            ],
            [
             0.9,
             "#4d9221"
            ],
            [
             1,
             "#276419"
            ]
           ],
           "sequential": [
            [
             0,
             "#0d0887"
            ],
            [
             0.1111111111111111,
             "#46039f"
            ],
            [
             0.2222222222222222,
             "#7201a8"
            ],
            [
             0.3333333333333333,
             "#9c179e"
            ],
            [
             0.4444444444444444,
             "#bd3786"
            ],
            [
             0.5555555555555556,
             "#d8576b"
            ],
            [
             0.6666666666666666,
             "#ed7953"
            ],
            [
             0.7777777777777778,
             "#fb9f3a"
            ],
            [
             0.8888888888888888,
             "#fdca26"
            ],
            [
             1,
             "#f0f921"
            ]
           ],
           "sequentialminus": [
            [
             0,
             "#0d0887"
            ],
            [
             0.1111111111111111,
             "#46039f"
            ],
            [
             0.2222222222222222,
             "#7201a8"
            ],
            [
             0.3333333333333333,
             "#9c179e"
            ],
            [
             0.4444444444444444,
             "#bd3786"
            ],
            [
             0.5555555555555556,
             "#d8576b"
            ],
            [
             0.6666666666666666,
             "#ed7953"
            ],
            [
             0.7777777777777778,
             "#fb9f3a"
            ],
            [
             0.8888888888888888,
             "#fdca26"
            ],
            [
             1,
             "#f0f921"
            ]
           ]
          },
          "colorway": [
           "#636efa",
           "#EF553B",
           "#00cc96",
           "#ab63fa",
           "#FFA15A",
           "#19d3f3",
           "#FF6692",
           "#B6E880",
           "#FF97FF",
           "#FECB52"
          ],
          "font": {
           "color": "#2a3f5f"
          },
          "geo": {
           "bgcolor": "white",
           "lakecolor": "white",
           "landcolor": "#E5ECF6",
           "showlakes": true,
           "showland": true,
           "subunitcolor": "white"
          },
          "hoverlabel": {
           "align": "left"
          },
          "hovermode": "closest",
          "mapbox": {
           "style": "light"
          },
          "paper_bgcolor": "white",
          "plot_bgcolor": "#E5ECF6",
          "polar": {
           "angularaxis": {
            "gridcolor": "white",
            "linecolor": "white",
            "ticks": ""
           },
           "bgcolor": "#E5ECF6",
           "radialaxis": {
            "gridcolor": "white",
            "linecolor": "white",
            "ticks": ""
           }
          },
          "scene": {
           "xaxis": {
            "backgroundcolor": "#E5ECF6",
            "gridcolor": "white",
            "gridwidth": 2,
            "linecolor": "white",
            "showbackground": true,
            "ticks": "",
            "zerolinecolor": "white"
           },
           "yaxis": {
            "backgroundcolor": "#E5ECF6",
            "gridcolor": "white",
            "gridwidth": 2,
            "linecolor": "white",
            "showbackground": true,
            "ticks": "",
            "zerolinecolor": "white"
           },
           "zaxis": {
            "backgroundcolor": "#E5ECF6",
            "gridcolor": "white",
            "gridwidth": 2,
            "linecolor": "white",
            "showbackground": true,
            "ticks": "",
            "zerolinecolor": "white"
           }
          },
          "shapedefaults": {
           "line": {
            "color": "#2a3f5f"
           }
          },
          "ternary": {
           "aaxis": {
            "gridcolor": "white",
            "linecolor": "white",
            "ticks": ""
           },
           "baxis": {
            "gridcolor": "white",
            "linecolor": "white",
            "ticks": ""
           },
           "bgcolor": "#E5ECF6",
           "caxis": {
            "gridcolor": "white",
            "linecolor": "white",
            "ticks": ""
           }
          },
          "title": {
           "x": 0.05
          },
          "xaxis": {
           "automargin": true,
           "gridcolor": "white",
           "linecolor": "white",
           "ticks": "",
           "title": {
            "standoff": 15
           },
           "zerolinecolor": "white",
           "zerolinewidth": 2
          },
          "yaxis": {
           "automargin": true,
           "gridcolor": "white",
           "linecolor": "white",
           "ticks": "",
           "title": {
            "standoff": 15
           },
           "zerolinecolor": "white",
           "zerolinewidth": 2
          }
         }
        }
       }
      }
     },
     "metadata": {},
     "output_type": "display_data"
    }
   ],
   "source": [
    "# initiate data list for figure\n",
    "data = []\n",
    "#use for loop on every zoo name to create bar data\n",
    "for x in cross_tab2.columns:\n",
    "    data.append(go.Bar(name=str(x), x=cross_tab2.index, y=cross_tab2[x]))\n",
    "\n",
    "figure = go.Figure(data)\n",
    "figure.update_layout(barmode = 'stack')\n",
    "\n",
    "#For you to take a look at the result use\n",
    "figure.show()"
   ]
  }
 ],
 "metadata": {
  "interpreter": {
   "hash": "bab43053fb90d203ccb15a49067598763fbacd87f1e0f00ae3d1d67bc7752609"
  },
  "kernelspec": {
   "display_name": "Python 3.8.9 64-bit ('streamlit_GHP-BZQf9Icf': pipenv)",
   "language": "python",
   "name": "python3"
  },
  "language_info": {
   "codemirror_mode": {
    "name": "ipython",
    "version": 3
   },
   "file_extension": ".py",
   "mimetype": "text/x-python",
   "name": "python",
   "nbconvert_exporter": "python",
   "pygments_lexer": "ipython3",
   "version": "3.8.9"
  },
  "orig_nbformat": 4
 },
 "nbformat": 4,
 "nbformat_minor": 2
}
